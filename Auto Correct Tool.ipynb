{
 "cells": [
  {
   "cell_type": "code",
   "execution_count": 7,
   "id": "7058c23d",
   "metadata": {},
   "outputs": [
    {
     "name": "stdout",
     "output_type": "stream",
     "text": [
      "Collecting pyenchant\n",
      "  Downloading pyenchant-3.2.2-py3-none-win_amd64.whl (11.9 MB)\n",
      "Installing collected packages: pyenchant\n",
      "Successfully installed pyenchant-3.2.2\n"
     ]
    }
   ],
   "source": [
    "!pip install pyenchant"
   ]
  },
  {
   "cell_type": "code",
   "execution_count": 12,
   "id": "c5d9c8ed",
   "metadata": {},
   "outputs": [
    {
     "name": "stdout",
     "output_type": "stream",
     "text": [
      "outo\n",
      "Corrected word: out\n"
     ]
    }
   ],
   "source": [
    "import enchant\n",
    "\n",
    "def correct_word(word):\n",
    "    # Create an instance of the English dictionary\n",
    "    dictionary = enchant.Dict(\"en_US\")\n",
    "\n",
    "    # Check if the input word is valid\n",
    "    if dictionary.check(word):\n",
    "        return word\n",
    "\n",
    "    # Get suggestions for correcting the word\n",
    "    suggestions = dictionary.suggest(word)\n",
    "\n",
    "    # If suggestions are available, return the first suggestion\n",
    "    if suggestions:\n",
    "        return suggestions[0]\n",
    "\n",
    "    # If no suggestions are available, return None\n",
    "    return None\n",
    "\n",
    "# Test the function\n",
    "input_word = input()\n",
    "corrected_word = correct_word(input_word)\n",
    "print(f\"Corrected word: {corrected_word}\")\n"
   ]
  }
 ],
 "metadata": {
  "kernelspec": {
   "display_name": "Python 3 (ipykernel)",
   "language": "python",
   "name": "python3"
  },
  "language_info": {
   "codemirror_mode": {
    "name": "ipython",
    "version": 3
   },
   "file_extension": ".py",
   "mimetype": "text/x-python",
   "name": "python",
   "nbconvert_exporter": "python",
   "pygments_lexer": "ipython3",
   "version": "3.9.12"
  }
 },
 "nbformat": 4,
 "nbformat_minor": 5
}

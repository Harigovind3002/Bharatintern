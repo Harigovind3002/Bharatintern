{
 "cells": [
  {
   "cell_type": "code",
   "execution_count": 6,
   "id": "ec912eba",
   "metadata": {},
   "outputs": [
    {
     "name": "stdout",
     "output_type": "stream",
     "text": [
      "Requirement already satisfied: nltk in c:\\users\\lenovo\\anaconda3\\lib\\site-packages (3.7)\n",
      "Requirement already satisfied: joblib in c:\\users\\lenovo\\anaconda3\\lib\\site-packages (from nltk) (1.1.0)\n",
      "Requirement already satisfied: regex>=2021.8.3 in c:\\users\\lenovo\\anaconda3\\lib\\site-packages (from nltk) (2022.3.15)\n",
      "Requirement already satisfied: click in c:\\users\\lenovo\\anaconda3\\lib\\site-packages (from nltk) (8.0.4)\n",
      "Requirement already satisfied: tqdm in c:\\users\\lenovo\\anaconda3\\lib\\site-packages (from nltk) (4.64.0)\n",
      "Requirement already satisfied: colorama in c:\\users\\lenovo\\anaconda3\\lib\\site-packages (from click->nltk) (0.4.4)\n",
      "Note: you may need to restart the kernel to use updated packages.\n"
     ]
    }
   ],
   "source": [
    "pip install nltk"
   ]
  },
  {
   "cell_type": "code",
   "execution_count": 7,
   "id": "7c906e69",
   "metadata": {},
   "outputs": [],
   "source": [
    "import nltk\n"
   ]
  },
  {
   "cell_type": "code",
   "execution_count": 3,
   "id": "89791350",
   "metadata": {},
   "outputs": [
    {
     "name": "stderr",
     "output_type": "stream",
     "text": [
      "[nltk_data] Downloading package punkt to\n",
      "[nltk_data]     C:\\Users\\Lenovo\\AppData\\Roaming\\nltk_data...\n",
      "[nltk_data]   Unzipping tokenizers\\punkt.zip.\n"
     ]
    },
    {
     "data": {
      "text/plain": [
       "True"
      ]
     },
     "execution_count": 3,
     "metadata": {},
     "output_type": "execute_result"
    }
   ],
   "source": [
    "nltk.download('punkt')"
   ]
  },
  {
   "cell_type": "code",
   "execution_count": 7,
   "id": "cb516036",
   "metadata": {},
   "outputs": [
    {
     "name": "stdout",
     "output_type": "stream",
     "text": [
      "Best candidate: \n",
      "Name: Akash\n",
      "Resume: I have strong communication and teamwork skills. I enjoy solving problems and have leadership experience.\n",
      "Similarity score:  0.6\n"
     ]
    }
   ],
   "source": [
    "import nltk\n",
    "\n",
    "# Predefined job requirements\n",
    "job_requirements = {'communication', 'teamwork', 'problem-solving', 'leadership', 'analytical'}\n",
    "\n",
    "# Function to calculate the similarity score between job requirements and a resume\n",
    "def calculate_similarity_score(resume):\n",
    "    resume_words = set(nltk.word_tokenize(resume.lower()))\n",
    "    similarity_score = len(job_requirements.intersection(resume_words)) / len(job_requirements)\n",
    "    return similarity_score\n",
    "\n",
    "# List of candidate resumes\n",
    "candidate_resumes = [\n",
    "    {\"name\": \"Akash\", \"resume\": \"I have strong communication and teamwork skills. I enjoy solving problems and have leadership experience.\"},\n",
    "    {\"name\": \"Ramesh\", \"resume\": \"My analytical abilities and problem-solving skills make me a great fit for this job.\"},\n",
    "    {\"name\": \"Basil\", \"resume\": \"I have excellent leadership and communication skills. I can work well in teams and solve problems efficiently.\"},\n",
    "    {\"name\": \"Lakshman\", \"resume\": \"I am a strong problem solver with good analytical skills. I have experience working in teams and leading projects.\"}\n",
    "]\n",
    "\n",
    "# Find the best candidate based on similarity scores\n",
    "best_candidate = None\n",
    "best_score = 0\n",
    "\n",
    "for candidate in candidate_resumes:\n",
    "    score = calculate_similarity_score(candidate[\"resume\"])\n",
    "    if score > best_score:\n",
    "        best_candidate = candidate\n",
    "        best_score = score\n",
    "\n",
    "# Print the best candidate, their similarity score, and their name\n",
    "print(\"Best candidate: \")\n",
    "print(\"Name:\", best_candidate[\"name\"])\n",
    "print(\"Resume:\", best_candidate[\"resume\"])\n",
    "print(\"Similarity score: \", best_score)\n",
    "\n"
   ]
  },
  {
   "cell_type": "code",
   "execution_count": null,
   "id": "0078b510",
   "metadata": {},
   "outputs": [],
   "source": []
  }
 ],
 "metadata": {
  "kernelspec": {
   "display_name": "Python 3 (ipykernel)",
   "language": "python",
   "name": "python3"
  },
  "language_info": {
   "codemirror_mode": {
    "name": "ipython",
    "version": 3
   },
   "file_extension": ".py",
   "mimetype": "text/x-python",
   "name": "python",
   "nbconvert_exporter": "python",
   "pygments_lexer": "ipython3",
   "version": "3.9.12"
  }
 },
 "nbformat": 4,
 "nbformat_minor": 5
}
